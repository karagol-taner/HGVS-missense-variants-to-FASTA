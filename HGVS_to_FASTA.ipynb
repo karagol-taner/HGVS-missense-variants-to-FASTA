{
  "nbformat": 4,
  "nbformat_minor": 0,
  "metadata": {
    "colab": {
      "provenance": [],
      "authorship_tag": "ABX9TyNmPfKwqRZYYuzyH+tiqzZN",
      "include_colab_link": true
    },
    "kernelspec": {
      "name": "python3",
      "display_name": "Python 3"
    },
    "language_info": {
      "name": "python"
    }
  },
  "cells": [
    {
      "cell_type": "markdown",
      "metadata": {
        "id": "view-in-github",
        "colab_type": "text"
      },
      "source": [
        "<a href=\"https://colab.research.google.com/github/karagol-taner/HGVS-missense-variants-to-FASTA/blob/main/HGVS_to_FASTA.ipynb\" target=\"_parent\"><img src=\"https://colab.research.google.com/assets/colab-badge.svg\" alt=\"Open In Colab\"/></a>"
      ]
    },
    {
      "cell_type": "markdown",
      "source": [
        "# HGVS to FASTA\n",
        "This Google Colab notebook serves as a platform for executing the Python script designed to convert HGVS missense variants to FASTA format. It directly integrates with the corresponding [GitHub repository (HGVS missense variants to FASTA)](https://github.com/karagol-taner/HGVS-missense-variants-to-FASTA), providing a seamless environment for conversion tasks."
      ],
      "metadata": {
        "id": "LSG_tPBKplC7"
      }
    },
    {
      "cell_type": "code",
      "source": [
        "#@markdown Install HGVStoFASTA\n",
        "!pip install HGVStoFASTA"
      ],
      "metadata": {
        "id": "eHpPMk3voY2J",
        "cellView": "form"
      },
      "execution_count": null,
      "outputs": []
    },
    {
      "cell_type": "code",
      "source": [
        "#@markdown Run the Program\n",
        "!HGVStoFASTA"
      ],
      "metadata": {
        "cellView": "form",
        "id": "JwReJD6QEaE2"
      },
      "execution_count": null,
      "outputs": []
    }
  ]
}